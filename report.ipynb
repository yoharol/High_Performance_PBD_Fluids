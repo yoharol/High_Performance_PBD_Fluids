{
 "cells": [
  {
   "cell_type": "markdown",
   "id": "c89cc616-48f9-4919-b786-10fe1259a00d",
   "metadata": {},
   "source": [
    "# Final report "
   ]
  }
 ],
 "metadata": {
  "kernelspec": {
   "display_name": "Python 3 (ipykernel)",
   "language": "python",
   "name": "python3"
  },
  "language_info": {
   "codemirror_mode": {
    "name": "ipython",
    "version": 3
   },
   "file_extension": ".py",
   "mimetype": "text/x-python",
   "name": "python",
   "nbconvert_exporter": "python",
   "pygments_lexer": "ipython3",
   "version": "3.8.10"
  }
 },
 "nbformat": 4,
 "nbformat_minor": 5
}
